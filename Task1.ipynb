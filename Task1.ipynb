{
  "nbformat": 4,
  "nbformat_minor": 0,
  "metadata": {
    "language_info": {
      "codemirror_mode": {
        "name": "ipython",
        "version": 3
      },
      "file_extension": ".py",
      "mimetype": "text/x-python",
      "name": "python",
      "nbconvert_exporter": "python",
      "pygments_lexer": "ipython3",
      "version": "3.8.5"
    },
    "orig_nbformat": 4,
    "kernelspec": {
      "name": "python3",
      "display_name": "Python 3.8.5 32-bit"
    },
    "interpreter": {
      "hash": "5f6227dd9e9e868107fb3c1114210844412e6c15a282b810619744ffd1febba0"
    },
    "colab": {
      "name": "Task1.ipynb",
      "provenance": [],
      "collapsed_sections": []
    }
  },
  "cells": [
    {
      "cell_type": "markdown",
      "metadata": {
        "id": "v1r9DOFxnSrB"
      },
      "source": [
        "## Name: Samrudha Ganvir\n"
      ]
    },
    {
      "cell_type": "markdown",
      "metadata": {
        "id": "FUmWm1Odxoi5"
      },
      "source": [
        "# TASK - 1\n",
        "# PREDICTION USING SUPERVISED ML\n",
        "\n",
        "###### We are given a data set consisting of student scores and the number of hours they studied. In this task we have to predict the marks of student given the number of hours he or she studied.  \n",
        "\n",
        "\n",
        "\n"
      ]
    },
    {
      "cell_type": "code",
      "metadata": {
        "id": "w44Fm7vUxoi7"
      },
      "source": [
        "#Importing the libraries\n",
        "\n",
        "import numpy as np\n",
        "import pandas as pd\n",
        "import matplotlib.pyplot as plt\n",
        "from sklearn import linear_model\n"
      ],
      "execution_count": null,
      "outputs": []
    },
    {
      "cell_type": "markdown",
      "metadata": {
        "id": "TYqCe_PAxoi8"
      },
      "source": [
        "#### READING THE DATASET"
      ]
    },
    {
      "cell_type": "code",
      "metadata": {
        "colab": {
          "base_uri": "https://localhost:8080/"
        },
        "id": "MZK-Zsctxoi8",
        "outputId": "b97ad89b-93d4-48d0-98c6-411294b50e02"
      },
      "source": [
        "#Reading the data\n",
        "\n",
        "url = 'http://bit.ly/w-data'\n",
        "student_data = pd.read_csv(url)\n",
        "print(student_data.head())"
      ],
      "execution_count": null,
      "outputs": [
        {
          "output_type": "stream",
          "text": [
            "   Hours  Scores\n",
            "0    2.5      21\n",
            "1    5.1      47\n",
            "2    3.2      27\n",
            "3    8.5      75\n",
            "4    3.5      30\n"
          ],
          "name": "stdout"
        }
      ]
    },
    {
      "cell_type": "markdown",
      "metadata": {
        "id": "LBUADYn0qQk4"
      },
      "source": [
        "#### PLOTTING THE DATASET"
      ]
    },
    {
      "cell_type": "code",
      "metadata": {
        "colab": {
          "base_uri": "https://localhost:8080/",
          "height": 295
        },
        "id": "itD43_EtqARb",
        "outputId": "fffcc8bf-c6fb-4b45-a959-1c0361c48432"
      },
      "source": [
        "x = np.asarray(student_data['Hours'])[:, np.newaxis]\n",
        "y = np.asarray(student_data['Scores'])\n",
        "\n",
        "plt.plot(x, y, 'x' , color='red')\n",
        "plt.xlabel(\"Hours\")\n",
        "plt.ylabel(\"Scores\")\n",
        "plt.title(\"Scores vs Hours studied\")\n",
        "plt.grid(alpha=0.3)\n",
        "plt.show()"
      ],
      "execution_count": null,
      "outputs": [
        {
          "output_type": "display_data",
          "data": {
            "image/png": "[encoded data removed]",
            "text/plain": [
              "<Figure size 432x288 with 1 Axes>"
            ]
          },
          "metadata": {
            "tags": [],
            "needs_background": "light"
          }
        }
      ]
    },
    {
      "cell_type": "markdown",
      "metadata": {
        "id": "RfZRyp9exoi9"
      },
      "source": [
        "#### TRAINING THE ALGORITHM"
      ]
    },
    {
      "cell_type": "code",
      "metadata": {
        "colab": {
          "base_uri": "https://localhost:8080/"
        },
        "id": "v3zcbHc7xoi9",
        "outputId": "9a0237fc-2e16-4ff2-9a63-12140d5d645b"
      },
      "source": [
        "from sklearn.model_selection import train_test_split \n",
        "\n",
        "# Splitting the Dataset into train and test set using train_test_split\n",
        "x_train, x_test,  y_train,  y_test = train_test_split(x, y, test_size=0.2, random_state=42)\n",
        "\n",
        "lm = linear_model.LinearRegression()\n",
        "lm.fit(x_train, y_train)\n",
        "\n",
        "print('Training Done')"
      ],
      "execution_count": null,
      "outputs": [
        {
          "output_type": "stream",
          "text": [
            "Training Done\n"
          ],
          "name": "stdout"
        }
      ]
    },
    {
      "cell_type": "markdown",
      "metadata": {
        "id": "SQxrHf75qlYD"
      },
      "source": [
        "#### PLOTTING THE LINE OF REGRESSION"
      ]
    },
    {
      "cell_type": "code",
      "metadata": {
        "colab": {
          "base_uri": "https://localhost:8080/",
          "height": 279
        },
        "id": "h_xkoZSNqjlp",
        "outputId": "0b30d75f-792c-472d-d767-05a5b58a5c46"
      },
      "source": [
        "Y = lm.intercept_ + lm.coef_ * x\n",
        "\n",
        "plt.plot(x, y, 'x' , color='red')\n",
        "plt.xlabel(\"Hours\")\n",
        "plt.ylabel(\"Scores\")\n",
        "plt.plot(x, Y, '-', color = '#4682b4')\n",
        "plt.grid(alpha=0.3)\n",
        "plt.show()"
      ],
      "execution_count": null,
      "outputs": [
        {
          "output_type": "display_data",
          "data": {
            "image/png": "[encoded data removed]",
            "text/plain": [
              "<Figure size 432x288 with 1 Axes>"
            ]
          },
          "metadata": {
            "tags": [],
            "needs_background": "light"
          }
        }
      ]
    },
    {
      "cell_type": "markdown",
      "metadata": {
        "id": "wsMBJ_fZxoi9"
      },
      "source": [
        "#### PREDICTING SCORES FOR THE TEST SET"
      ]
    },
    {
      "cell_type": "code",
      "metadata": {
        "colab": {
          "base_uri": "https://localhost:8080/"
        },
        "id": "8Y0aSU4dxoi-",
        "outputId": "1cefd70d-826e-4f83-d799-117689bee0c4"
      },
      "source": [
        "y_pred = lm.predict(x_test)\n",
        "\n",
        "x_t = x_test.reshape(5)\n",
        "\n",
        "predictions = pd.DataFrame({'Study Hours': x_t ,'Predited scores' : y_pred , 'Actual scores' : y_test })\n",
        "print(predictions)\n"
      ],
      "execution_count": null,
      "outputs": [
        {
          "output_type": "stream",
          "text": [
            "   Study Hours  Predited scores  Actual scores\n",
            "0          8.3        83.188141             81\n",
            "1          2.5        27.032088             30\n",
            "2          2.5        27.032088             21\n",
            "3          6.9        69.633232             76\n",
            "4          5.9        59.951153             62\n"
          ],
          "name": "stdout"
        }
      ]
    },
    {
      "cell_type": "markdown",
      "metadata": {
        "id": "dUBdQu7Xxoi-"
      },
      "source": [
        "#### PREDICTING SCORE FOR GIVEN STUDY HOURS"
      ]
    },
    {
      "cell_type": "code",
      "metadata": {
        "colab": {
          "base_uri": "https://localhost:8080/"
        },
        "id": "gFfPtZxTxoi-",
        "outputId": "d803c0f3-f324-4a1d-9d9b-f92c93dccd87"
      },
      "source": [
        "hours = 9.25\n",
        "marks = float((lm.predict([[hours]])).item())\n",
        "print(\"The predicted score, if a student studies for\", hours, \"hours:\", round(marks,2))"
      ],
      "execution_count": null,
      "outputs": [
        {
          "output_type": "stream",
          "text": [
            "The predicted score, if a student studies for 9.25 hours: 92.39\n"
          ],
          "name": "stdout"
        }
      ]
    },
    {
      "cell_type": "markdown",
      "metadata": {
        "id": "Miewo7v2xoi_"
      },
      "source": [
        "#### ERROR CALCULATION"
      ]
    },
    {
      "cell_type": "code",
      "metadata": {
        "colab": {
          "base_uri": "https://localhost:8080/"
        },
        "id": "G06zQLuQxoi_",
        "outputId": "19fe4ef6-c5e7-43a5-b8d3-362d0b5ebb27"
      },
      "source": [
        "from sklearn import metrics\n",
        "import math\n",
        "\n",
        "print(\"Mean Absolute Error: \" , metrics.mean_absolute_error(y_test, y_pred))\n",
        "print(\"Root Mean Squared Error: \" , math.sqrt(metrics.mean_squared_error(y_test, y_pred)) )\n"
      ],
      "execution_count": null,
      "outputs": [
        {
          "output_type": "stream",
          "text": [
            "Mean Absolute Error:  3.9207511902099244\n",
            "Root Mean Squared Error:  4.352380006653288\n"
          ],
          "name": "stdout"
        }
      ]
    }
  ]
}